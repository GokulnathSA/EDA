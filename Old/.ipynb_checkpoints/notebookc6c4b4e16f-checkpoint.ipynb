{
 "cells": [
  {
   "cell_type": "code",
   "execution_count": 1,
   "id": "7d3d5341",
   "metadata": {
    "_cell_guid": "b1076dfc-b9ad-4769-8c92-a6c4dae69d19",
    "_uuid": "8f2839f25d086af736a60e9eeb907d3b93b6e0e5",
    "execution": {
     "iopub.execute_input": "2022-02-26T17:24:17.121248Z",
     "iopub.status.busy": "2022-02-26T17:24:17.120593Z",
     "iopub.status.idle": "2022-02-26T17:24:17.133156Z",
     "shell.execute_reply": "2022-02-26T17:24:17.132328Z",
     "shell.execute_reply.started": "2022-02-25T11:51:06.649541Z"
    },
    "papermill": {
     "duration": 0.041626,
     "end_time": "2022-02-26T17:24:17.133386",
     "exception": false,
     "start_time": "2022-02-26T17:24:17.091760",
     "status": "completed"
    },
    "tags": []
   },
   "outputs": [
    {
     "name": "stdout",
     "output_type": "stream",
     "text": [
      "/kaggle/input/newset-datathon-2022/SampleSubmission.csv\n",
      "/kaggle/input/newset-datathon-2022/train_data.csv\n",
      "/kaggle/input/newset-datathon-2022/test.csv\n"
     ]
    }
   ],
   "source": [
    "# This Python 3 environment comes with many helpful analytics libraries installed\n",
    "# It is defined by the kaggle/python Docker image: https://github.com/kaggle/docker-python\n",
    "# For example, here's several helpful packages to load\n",
    "\n",
    "import numpy as np # linear algebra\n",
    "import pandas as pd # data processing, CSV file I/O (e.g. pd.read_csv)\n",
    "\n",
    "# Input data files are available in the read-only \"../input/\" directory\n",
    "# For example, running this (by clicking run or pressing Shift+Enter) will list all files under the input directory\n",
    "\n",
    "import os\n",
    "for dirname, _, filenames in os.walk('/kaggle/input'):\n",
    "    for filename in filenames:\n",
    "        print(os.path.join(dirname, filename))\n",
    "\n",
    "# You can write up to 20GB to the current directory (/kaggle/working/) that gets preserved as output when you create a version using \"Save & Run All\" \n",
    "# You can also write temporary files to /kaggle/temp/, but they won't be saved outside of the current session"
   ]
  },
  {
   "cell_type": "code",
   "execution_count": 2,
   "id": "640445a3",
   "metadata": {
    "execution": {
     "iopub.execute_input": "2022-02-26T17:24:17.179113Z",
     "iopub.status.busy": "2022-02-26T17:24:17.178334Z",
     "iopub.status.idle": "2022-02-26T17:24:18.301928Z",
     "shell.execute_reply": "2022-02-26T17:24:18.301249Z",
     "shell.execute_reply.started": "2022-02-26T17:17:52.838721Z"
    },
    "papermill": {
     "duration": 1.148182,
     "end_time": "2022-02-26T17:24:18.302076",
     "exception": false,
     "start_time": "2022-02-26T17:24:17.153894",
     "status": "completed"
    },
    "tags": []
   },
   "outputs": [],
   "source": [
    "import pandas as pd\n",
    "import numpy as np\n",
    "import matplotlib.pyplot as plt\n",
    "import seaborn as sns\n",
    "dat_train = pd.read_csv('../input/newset-datathon-2022/train_data.csv')"
   ]
  },
  {
   "cell_type": "code",
   "execution_count": 3,
   "id": "315789f3",
   "metadata": {
    "execution": {
     "iopub.execute_input": "2022-02-26T17:24:18.348970Z",
     "iopub.status.busy": "2022-02-26T17:24:18.348164Z",
     "iopub.status.idle": "2022-02-26T17:24:18.367055Z",
     "shell.execute_reply": "2022-02-26T17:24:18.366504Z",
     "shell.execute_reply.started": "2022-02-26T17:18:03.652825Z"
    },
    "papermill": {
     "duration": 0.044767,
     "end_time": "2022-02-26T17:24:18.367229",
     "exception": false,
     "start_time": "2022-02-26T17:24:18.322462",
     "status": "completed"
    },
    "tags": []
   },
   "outputs": [
    {
     "data": {
      "text/plain": [
       "ofd_date        0\n",
       "country_code    0\n",
       "fc_codes        0\n",
       "station_code    0\n",
       "OFD             0\n",
       "Slam            0\n",
       "Earlies_Exp     0\n",
       "Earlies_Rec     0\n",
       "MNR_SNR_Exp     0\n",
       "Rollover        0\n",
       "Returns         0\n",
       "R_Sideline      0\n",
       "Sideline        0\n",
       "dtype: int64"
      ]
     },
     "execution_count": 3,
     "metadata": {},
     "output_type": "execute_result"
    }
   ],
   "source": [
    "#check for missing values \n",
    "dat_train.isnull().sum()"
   ]
  },
  {
   "cell_type": "code",
   "execution_count": 4,
   "id": "7e60b57e",
   "metadata": {
    "execution": {
     "iopub.execute_input": "2022-02-26T17:24:18.411826Z",
     "iopub.status.busy": "2022-02-26T17:24:18.411050Z",
     "iopub.status.idle": "2022-02-26T17:24:18.429801Z",
     "shell.execute_reply": "2022-02-26T17:24:18.429214Z",
     "shell.execute_reply.started": "2022-02-26T17:18:33.059284Z"
    },
    "papermill": {
     "duration": 0.041703,
     "end_time": "2022-02-26T17:24:18.429962",
     "exception": false,
     "start_time": "2022-02-26T17:24:18.388259",
     "status": "completed"
    },
    "tags": []
   },
   "outputs": [
    {
     "data": {
      "text/html": [
       "<div>\n",
       "<style scoped>\n",
       "    .dataframe tbody tr th:only-of-type {\n",
       "        vertical-align: middle;\n",
       "    }\n",
       "\n",
       "    .dataframe tbody tr th {\n",
       "        vertical-align: top;\n",
       "    }\n",
       "\n",
       "    .dataframe thead th {\n",
       "        text-align: right;\n",
       "    }\n",
       "</style>\n",
       "<table border=\"1\" class=\"dataframe\">\n",
       "  <thead>\n",
       "    <tr style=\"text-align: right;\">\n",
       "      <th></th>\n",
       "      <th>ofd_date</th>\n",
       "      <th>country_code</th>\n",
       "      <th>fc_codes</th>\n",
       "      <th>station_code</th>\n",
       "      <th>OFD</th>\n",
       "      <th>Slam</th>\n",
       "      <th>Earlies_Exp</th>\n",
       "      <th>Earlies_Rec</th>\n",
       "      <th>MNR_SNR_Exp</th>\n",
       "      <th>Rollover</th>\n",
       "      <th>Returns</th>\n",
       "      <th>R_Sideline</th>\n",
       "      <th>Sideline</th>\n",
       "    </tr>\n",
       "  </thead>\n",
       "  <tbody>\n",
       "    <tr>\n",
       "      <th>0</th>\n",
       "      <td>2021-06-30</td>\n",
       "      <td>C</td>\n",
       "      <td>F6, F8, F14, F17</td>\n",
       "      <td>D33</td>\n",
       "      <td>14594</td>\n",
       "      <td>14568</td>\n",
       "      <td>782</td>\n",
       "      <td>896</td>\n",
       "      <td>615</td>\n",
       "      <td>767</td>\n",
       "      <td>35</td>\n",
       "      <td>2</td>\n",
       "      <td>4</td>\n",
       "    </tr>\n",
       "    <tr>\n",
       "      <th>1</th>\n",
       "      <td>2021-06-30</td>\n",
       "      <td>C</td>\n",
       "      <td>F6, F8, F9, F14, F17, F18</td>\n",
       "      <td>D37</td>\n",
       "      <td>12736</td>\n",
       "      <td>13111</td>\n",
       "      <td>655</td>\n",
       "      <td>823</td>\n",
       "      <td>211</td>\n",
       "      <td>29</td>\n",
       "      <td>17</td>\n",
       "      <td>2</td>\n",
       "      <td>1</td>\n",
       "    </tr>\n",
       "    <tr>\n",
       "      <th>2</th>\n",
       "      <td>2021-06-30</td>\n",
       "      <td>C</td>\n",
       "      <td>F1, F4, F6, F7, F13, F15, F16</td>\n",
       "      <td>D34</td>\n",
       "      <td>14562</td>\n",
       "      <td>15651</td>\n",
       "      <td>1028</td>\n",
       "      <td>1910</td>\n",
       "      <td>225</td>\n",
       "      <td>35</td>\n",
       "      <td>47</td>\n",
       "      <td>3</td>\n",
       "      <td>1</td>\n",
       "    </tr>\n",
       "    <tr>\n",
       "      <th>3</th>\n",
       "      <td>2021-06-30</td>\n",
       "      <td>C</td>\n",
       "      <td>F2, F6, F7, F10, F12, F13, F14, F15, F19</td>\n",
       "      <td>D45</td>\n",
       "      <td>11165</td>\n",
       "      <td>11467</td>\n",
       "      <td>514</td>\n",
       "      <td>769</td>\n",
       "      <td>56</td>\n",
       "      <td>39</td>\n",
       "      <td>29</td>\n",
       "      <td>0</td>\n",
       "      <td>1</td>\n",
       "    </tr>\n",
       "    <tr>\n",
       "      <th>4</th>\n",
       "      <td>2021-06-30</td>\n",
       "      <td>C</td>\n",
       "      <td>F6, F8, F13, F14, F17</td>\n",
       "      <td>D50</td>\n",
       "      <td>10006</td>\n",
       "      <td>10423</td>\n",
       "      <td>399</td>\n",
       "      <td>842</td>\n",
       "      <td>52</td>\n",
       "      <td>60</td>\n",
       "      <td>65</td>\n",
       "      <td>1</td>\n",
       "      <td>1</td>\n",
       "    </tr>\n",
       "  </tbody>\n",
       "</table>\n",
       "</div>"
      ],
      "text/plain": [
       "     ofd_date country_code                                  fc_codes  \\\n",
       "0  2021-06-30            C                          F6, F8, F14, F17   \n",
       "1  2021-06-30            C                 F6, F8, F9, F14, F17, F18   \n",
       "2  2021-06-30            C             F1, F4, F6, F7, F13, F15, F16   \n",
       "3  2021-06-30            C  F2, F6, F7, F10, F12, F13, F14, F15, F19   \n",
       "4  2021-06-30            C                     F6, F8, F13, F14, F17   \n",
       "\n",
       "  station_code    OFD   Slam  Earlies_Exp  Earlies_Rec  MNR_SNR_Exp  Rollover  \\\n",
       "0          D33  14594  14568          782          896          615       767   \n",
       "1          D37  12736  13111          655          823          211        29   \n",
       "2          D34  14562  15651         1028         1910          225        35   \n",
       "3          D45  11165  11467          514          769           56        39   \n",
       "4          D50  10006  10423          399          842           52        60   \n",
       "\n",
       "   Returns  R_Sideline  Sideline  \n",
       "0       35           2         4  \n",
       "1       17           2         1  \n",
       "2       47           3         1  \n",
       "3       29           0         1  \n",
       "4       65           1         1  "
      ]
     },
     "execution_count": 4,
     "metadata": {},
     "output_type": "execute_result"
    }
   ],
   "source": [
    "dat_train.head()"
   ]
  },
  {
   "cell_type": "code",
   "execution_count": 5,
   "id": "a4a29e75",
   "metadata": {
    "execution": {
     "iopub.execute_input": "2022-02-26T17:24:18.474507Z",
     "iopub.status.busy": "2022-02-26T17:24:18.473765Z",
     "iopub.status.idle": "2022-02-26T17:24:18.478577Z",
     "shell.execute_reply": "2022-02-26T17:24:18.479089Z",
     "shell.execute_reply.started": "2022-02-26T17:18:35.885705Z"
    },
    "papermill": {
     "duration": 0.028496,
     "end_time": "2022-02-26T17:24:18.479303",
     "exception": false,
     "start_time": "2022-02-26T17:24:18.450807",
     "status": "completed"
    },
    "tags": []
   },
   "outputs": [
    {
     "data": {
      "text/plain": [
       "(11309, 13)"
      ]
     },
     "execution_count": 5,
     "metadata": {},
     "output_type": "execute_result"
    }
   ],
   "source": [
    "dat_train.shape"
   ]
  },
  {
   "cell_type": "code",
   "execution_count": 6,
   "id": "6e60ab06",
   "metadata": {
    "execution": {
     "iopub.execute_input": "2022-02-26T17:24:18.525282Z",
     "iopub.status.busy": "2022-02-26T17:24:18.524463Z",
     "iopub.status.idle": "2022-02-26T17:24:18.553817Z",
     "shell.execute_reply": "2022-02-26T17:24:18.554395Z",
     "shell.execute_reply.started": "2022-02-26T17:18:37.784420Z"
    },
    "papermill": {
     "duration": 0.054231,
     "end_time": "2022-02-26T17:24:18.554585",
     "exception": false,
     "start_time": "2022-02-26T17:24:18.500354",
     "status": "completed"
    },
    "tags": []
   },
   "outputs": [
    {
     "name": "stdout",
     "output_type": "stream",
     "text": [
      "<class 'pandas.core.frame.DataFrame'>\n",
      "RangeIndex: 11309 entries, 0 to 11308\n",
      "Data columns (total 13 columns):\n",
      " #   Column        Non-Null Count  Dtype \n",
      "---  ------        --------------  ----- \n",
      " 0   ofd_date      11309 non-null  object\n",
      " 1   country_code  11309 non-null  object\n",
      " 2   fc_codes      11309 non-null  object\n",
      " 3   station_code  11309 non-null  object\n",
      " 4   OFD           11309 non-null  int64 \n",
      " 5   Slam          11309 non-null  int64 \n",
      " 6   Earlies_Exp   11309 non-null  int64 \n",
      " 7   Earlies_Rec   11309 non-null  int64 \n",
      " 8   MNR_SNR_Exp   11309 non-null  int64 \n",
      " 9   Rollover      11309 non-null  int64 \n",
      " 10  Returns       11309 non-null  int64 \n",
      " 11  R_Sideline    11309 non-null  int64 \n",
      " 12  Sideline      11309 non-null  int64 \n",
      "dtypes: int64(9), object(4)\n",
      "memory usage: 1.1+ MB\n"
     ]
    }
   ],
   "source": [
    "dat_train.info()"
   ]
  },
  {
   "cell_type": "code",
   "execution_count": 7,
   "id": "030d7ea7",
   "metadata": {
    "execution": {
     "iopub.execute_input": "2022-02-26T17:24:18.600287Z",
     "iopub.status.busy": "2022-02-26T17:24:18.599610Z",
     "iopub.status.idle": "2022-02-26T17:24:18.644245Z",
     "shell.execute_reply": "2022-02-26T17:24:18.643641Z",
     "shell.execute_reply.started": "2022-02-26T17:18:38.554251Z"
    },
    "papermill": {
     "duration": 0.068454,
     "end_time": "2022-02-26T17:24:18.644411",
     "exception": false,
     "start_time": "2022-02-26T17:24:18.575957",
     "status": "completed"
    },
    "tags": []
   },
   "outputs": [
    {
     "data": {
      "text/html": [
       "<div>\n",
       "<style scoped>\n",
       "    .dataframe tbody tr th:only-of-type {\n",
       "        vertical-align: middle;\n",
       "    }\n",
       "\n",
       "    .dataframe tbody tr th {\n",
       "        vertical-align: top;\n",
       "    }\n",
       "\n",
       "    .dataframe thead th {\n",
       "        text-align: right;\n",
       "    }\n",
       "</style>\n",
       "<table border=\"1\" class=\"dataframe\">\n",
       "  <thead>\n",
       "    <tr style=\"text-align: right;\">\n",
       "      <th></th>\n",
       "      <th>OFD</th>\n",
       "      <th>Slam</th>\n",
       "      <th>Earlies_Exp</th>\n",
       "      <th>Earlies_Rec</th>\n",
       "      <th>MNR_SNR_Exp</th>\n",
       "      <th>Rollover</th>\n",
       "      <th>Returns</th>\n",
       "      <th>R_Sideline</th>\n",
       "      <th>Sideline</th>\n",
       "    </tr>\n",
       "  </thead>\n",
       "  <tbody>\n",
       "    <tr>\n",
       "      <th>count</th>\n",
       "      <td>11309.000000</td>\n",
       "      <td>11309.000000</td>\n",
       "      <td>11309.000000</td>\n",
       "      <td>11309.000000</td>\n",
       "      <td>11309.000000</td>\n",
       "      <td>11309.000000</td>\n",
       "      <td>11309.000000</td>\n",
       "      <td>11309.000000</td>\n",
       "      <td>11309.000000</td>\n",
       "    </tr>\n",
       "    <tr>\n",
       "      <th>mean</th>\n",
       "      <td>16107.803254</td>\n",
       "      <td>16050.335662</td>\n",
       "      <td>644.620656</td>\n",
       "      <td>653.369882</td>\n",
       "      <td>215.780175</td>\n",
       "      <td>231.747811</td>\n",
       "      <td>162.216642</td>\n",
       "      <td>181.492970</td>\n",
       "      <td>175.501547</td>\n",
       "    </tr>\n",
       "    <tr>\n",
       "      <th>std</th>\n",
       "      <td>7390.784150</td>\n",
       "      <td>7242.689184</td>\n",
       "      <td>604.513009</td>\n",
       "      <td>609.118523</td>\n",
       "      <td>475.355339</td>\n",
       "      <td>602.885062</td>\n",
       "      <td>303.522951</td>\n",
       "      <td>497.362834</td>\n",
       "      <td>485.388451</td>\n",
       "    </tr>\n",
       "    <tr>\n",
       "      <th>min</th>\n",
       "      <td>0.000000</td>\n",
       "      <td>6.000000</td>\n",
       "      <td>0.000000</td>\n",
       "      <td>0.000000</td>\n",
       "      <td>1.000000</td>\n",
       "      <td>0.000000</td>\n",
       "      <td>0.000000</td>\n",
       "      <td>0.000000</td>\n",
       "      <td>0.000000</td>\n",
       "    </tr>\n",
       "    <tr>\n",
       "      <th>25%</th>\n",
       "      <td>11298.000000</td>\n",
       "      <td>11337.000000</td>\n",
       "      <td>220.000000</td>\n",
       "      <td>225.000000</td>\n",
       "      <td>76.000000</td>\n",
       "      <td>51.000000</td>\n",
       "      <td>40.000000</td>\n",
       "      <td>0.000000</td>\n",
       "      <td>0.000000</td>\n",
       "    </tr>\n",
       "    <tr>\n",
       "      <th>50%</th>\n",
       "      <td>14644.000000</td>\n",
       "      <td>14617.000000</td>\n",
       "      <td>463.000000</td>\n",
       "      <td>475.000000</td>\n",
       "      <td>120.000000</td>\n",
       "      <td>87.000000</td>\n",
       "      <td>81.000000</td>\n",
       "      <td>2.000000</td>\n",
       "      <td>2.000000</td>\n",
       "    </tr>\n",
       "    <tr>\n",
       "      <th>75%</th>\n",
       "      <td>19113.000000</td>\n",
       "      <td>19120.000000</td>\n",
       "      <td>867.000000</td>\n",
       "      <td>876.000000</td>\n",
       "      <td>208.000000</td>\n",
       "      <td>183.000000</td>\n",
       "      <td>148.000000</td>\n",
       "      <td>115.000000</td>\n",
       "      <td>119.000000</td>\n",
       "    </tr>\n",
       "    <tr>\n",
       "      <th>max</th>\n",
       "      <td>50365.000000</td>\n",
       "      <td>50421.000000</td>\n",
       "      <td>4934.000000</td>\n",
       "      <td>5219.000000</td>\n",
       "      <td>17411.000000</td>\n",
       "      <td>18839.000000</td>\n",
       "      <td>5479.000000</td>\n",
       "      <td>8090.000000</td>\n",
       "      <td>8121.000000</td>\n",
       "    </tr>\n",
       "  </tbody>\n",
       "</table>\n",
       "</div>"
      ],
      "text/plain": [
       "                OFD          Slam   Earlies_Exp   Earlies_Rec   MNR_SNR_Exp  \\\n",
       "count  11309.000000  11309.000000  11309.000000  11309.000000  11309.000000   \n",
       "mean   16107.803254  16050.335662    644.620656    653.369882    215.780175   \n",
       "std     7390.784150   7242.689184    604.513009    609.118523    475.355339   \n",
       "min        0.000000      6.000000      0.000000      0.000000      1.000000   \n",
       "25%    11298.000000  11337.000000    220.000000    225.000000     76.000000   \n",
       "50%    14644.000000  14617.000000    463.000000    475.000000    120.000000   \n",
       "75%    19113.000000  19120.000000    867.000000    876.000000    208.000000   \n",
       "max    50365.000000  50421.000000   4934.000000   5219.000000  17411.000000   \n",
       "\n",
       "           Rollover       Returns    R_Sideline      Sideline  \n",
       "count  11309.000000  11309.000000  11309.000000  11309.000000  \n",
       "mean     231.747811    162.216642    181.492970    175.501547  \n",
       "std      602.885062    303.522951    497.362834    485.388451  \n",
       "min        0.000000      0.000000      0.000000      0.000000  \n",
       "25%       51.000000     40.000000      0.000000      0.000000  \n",
       "50%       87.000000     81.000000      2.000000      2.000000  \n",
       "75%      183.000000    148.000000    115.000000    119.000000  \n",
       "max    18839.000000   5479.000000   8090.000000   8121.000000  "
      ]
     },
     "execution_count": 7,
     "metadata": {},
     "output_type": "execute_result"
    }
   ],
   "source": [
    "dat_train.describe()"
   ]
  },
  {
   "cell_type": "code",
   "execution_count": 8,
   "id": "d607426c",
   "metadata": {
    "execution": {
     "iopub.execute_input": "2022-02-26T17:24:18.693822Z",
     "iopub.status.busy": "2022-02-26T17:24:18.692813Z",
     "iopub.status.idle": "2022-02-26T17:24:18.708480Z",
     "shell.execute_reply": "2022-02-26T17:24:18.709041Z",
     "shell.execute_reply.started": "2022-02-26T17:18:49.512399Z"
    },
    "papermill": {
     "duration": 0.041083,
     "end_time": "2022-02-26T17:24:18.709248",
     "exception": false,
     "start_time": "2022-02-26T17:24:18.668165",
     "status": "completed"
    },
    "tags": []
   },
   "outputs": [
    {
     "name": "stdout",
     "output_type": "stream",
     "text": [
      "0\n"
     ]
    }
   ],
   "source": [
    "duplicate = dat_train.duplicated()\n",
    "print(duplicate.sum())"
   ]
  },
  {
   "cell_type": "code",
   "execution_count": 9,
   "id": "78b9db56",
   "metadata": {
    "execution": {
     "iopub.execute_input": "2022-02-26T17:24:18.756876Z",
     "iopub.status.busy": "2022-02-26T17:24:18.756225Z",
     "iopub.status.idle": "2022-02-26T17:24:19.260888Z",
     "shell.execute_reply": "2022-02-26T17:24:19.260122Z",
     "shell.execute_reply.started": "2022-02-26T17:18:50.836349Z"
    },
    "papermill": {
     "duration": 0.529632,
     "end_time": "2022-02-26T17:24:19.261043",
     "exception": false,
     "start_time": "2022-02-26T17:24:18.731411",
     "status": "completed"
    },
    "tags": []
   },
   "outputs": [
    {
     "data": {
      "text/plain": [
       "<AxesSubplot:>"
      ]
     },
     "execution_count": 9,
     "metadata": {},
     "output_type": "execute_result"
    },
    {
     "data": {
      "image/png": "[encoded data removed]",
      "text/plain": [
       "<Figure size 432x288 with 1 Axes>"
      ]
     },
     "metadata": {
      "needs_background": "light"
     },
     "output_type": "display_data"
    }
   ],
   "source": [
    "dat_train.boxplot()"
   ]
  },
  {
   "cell_type": "code",
   "execution_count": 10,
   "id": "45e5e332",
   "metadata": {
    "execution": {
     "iopub.execute_input": "2022-02-26T17:24:19.312713Z",
     "iopub.status.busy": "2022-02-26T17:24:19.310823Z",
     "iopub.status.idle": "2022-02-26T17:24:19.507605Z",
     "shell.execute_reply": "2022-02-26T17:24:19.506702Z",
     "shell.execute_reply.started": "2022-02-26T17:18:54.165039Z"
    },
    "papermill": {
     "duration": 0.223033,
     "end_time": "2022-02-26T17:24:19.507784",
     "exception": false,
     "start_time": "2022-02-26T17:24:19.284751",
     "status": "completed"
    },
    "tags": []
   },
   "outputs": [
    {
     "data": {
      "text/plain": [
       "<AxesSubplot:>"
      ]
     },
     "execution_count": 10,
     "metadata": {},
     "output_type": "execute_result"
    },
    {
     "data": {
      "image/png": "[encoded data removed]",
      "text/plain": [
       "<Figure size 432x288 with 1 Axes>"
      ]
     },
     "metadata": {
      "needs_background": "light"
     },
     "output_type": "display_data"
    }
   ],
   "source": [
    "dat_train.boxplot(column=['OFD'])"
   ]
  },
  {
   "cell_type": "code",
   "execution_count": 11,
   "id": "3b77030c",
   "metadata": {
    "execution": {
     "iopub.execute_input": "2022-02-26T17:24:19.560610Z",
     "iopub.status.busy": "2022-02-26T17:24:19.559960Z",
     "iopub.status.idle": "2022-02-26T17:24:19.590865Z",
     "shell.execute_reply": "2022-02-26T17:24:19.591427Z",
     "shell.execute_reply.started": "2022-02-26T17:18:57.397093Z"
    },
    "papermill": {
     "duration": 0.058709,
     "end_time": "2022-02-26T17:24:19.591611",
     "exception": false,
     "start_time": "2022-02-26T17:24:19.532902",
     "status": "completed"
    },
    "tags": []
   },
   "outputs": [
    {
     "name": "stdout",
     "output_type": "stream",
     "text": [
      "19113.0\n",
      "11298.0\n",
      "19120.0\n",
      "11337.0\n",
      "876.0\n",
      "225.0\n",
      "183.0\n",
      "51.0\n",
      "148.0\n",
      "40.0\n",
      "115.0\n",
      "0.0\n",
      "119.0\n",
      "0.0\n",
      "867.0\n",
      "220.0\n",
      "208.0\n",
      "76.0\n"
     ]
    }
   ],
   "source": [
    "for x in ['OFD', 'Slam', 'Earlies_Rec', 'Rollover', 'Returns', 'R_Sideline', 'Sideline', 'Earlies_Exp', 'MNR_SNR_Exp']:\n",
    "    q75, q25 = np.percentile(dat_train.loc[:, x],[75,25])\n",
    "    print(q75)\n",
    "    print(q25)\n",
    "    intr_qr = q75-q25\n",
    "    max = q75+(1.5*intr_qr)\n",
    "    min = q25-(1.5*intr_qr)\n",
    "    dat_train.loc[dat_train[x] < min,x] = np.nan\n",
    "    dat_train.loc[dat_train[x] > max,x] = np.nan"
   ]
  },
  {
   "cell_type": "code",
   "execution_count": 12,
   "id": "39638f0a",
   "metadata": {
    "execution": {
     "iopub.execute_input": "2022-02-26T17:24:19.647370Z",
     "iopub.status.busy": "2022-02-26T17:24:19.646633Z",
     "iopub.status.idle": "2022-02-26T17:24:19.848965Z",
     "shell.execute_reply": "2022-02-26T17:24:19.848300Z",
     "shell.execute_reply.started": "2022-02-26T17:18:59.676057Z"
    },
    "papermill": {
     "duration": 0.230278,
     "end_time": "2022-02-26T17:24:19.849112",
     "exception": false,
     "start_time": "2022-02-26T17:24:19.618834",
     "status": "completed"
    },
    "tags": []
   },
   "outputs": [
    {
     "data": {
      "text/plain": [
       "<AxesSubplot:>"
      ]
     },
     "execution_count": 12,
     "metadata": {},
     "output_type": "execute_result"
    },
    {
     "data": {
      "image/png": "[encoded data removed]",
      "text/plain": [
       "<Figure size 432x288 with 1 Axes>"
      ]
     },
     "metadata": {
      "needs_background": "light"
     },
     "output_type": "display_data"
    }
   ],
   "source": [
    "dat_train.boxplot(column=['OFD'])"
   ]
  },
  {
   "cell_type": "code",
   "execution_count": 13,
   "id": "d72706ef",
   "metadata": {
    "execution": {
     "iopub.execute_input": "2022-02-26T17:24:19.920509Z",
     "iopub.status.busy": "2022-02-26T17:24:19.919802Z",
     "iopub.status.idle": "2022-02-26T17:24:20.354314Z",
     "shell.execute_reply": "2022-02-26T17:24:20.353712Z",
     "shell.execute_reply.started": "2022-02-26T17:19:02.055764Z"
    },
    "papermill": {
     "duration": 0.478729,
     "end_time": "2022-02-26T17:24:20.354459",
     "exception": false,
     "start_time": "2022-02-26T17:24:19.875730",
     "status": "completed"
    },
    "tags": []
   },
   "outputs": [
    {
     "data": {
      "text/plain": [
       "<AxesSubplot:>"
      ]
     },
     "execution_count": 13,
     "metadata": {},
     "output_type": "execute_result"
    },
    {
     "data": {
      "image/png": "[encoded data removed]",
      "text/plain": [
       "<Figure size 432x288 with 1 Axes>"
      ]
     },
     "metadata": {
      "needs_background": "light"
     },
     "output_type": "display_data"
    }
   ],
   "source": [
    "dat_train.boxplot()"
   ]
  },
  {
   "cell_type": "code",
   "execution_count": 14,
   "id": "12f2a1ea",
   "metadata": {
    "execution": {
     "iopub.execute_input": "2022-02-26T17:24:20.416926Z",
     "iopub.status.busy": "2022-02-26T17:24:20.414122Z",
     "iopub.status.idle": "2022-02-26T17:24:20.420632Z",
     "shell.execute_reply": "2022-02-26T17:24:20.421397Z",
     "shell.execute_reply.started": "2022-02-26T17:19:04.324683Z"
    },
    "papermill": {
     "duration": 0.039539,
     "end_time": "2022-02-26T17:24:20.421621",
     "exception": false,
     "start_time": "2022-02-26T17:24:20.382082",
     "status": "completed"
    },
    "tags": []
   },
   "outputs": [
    {
     "data": {
      "text/plain": [
       "(11309, 13)"
      ]
     },
     "execution_count": 14,
     "metadata": {},
     "output_type": "execute_result"
    }
   ],
   "source": [
    "dat_train.shape"
   ]
  },
  {
   "cell_type": "code",
   "execution_count": 15,
   "id": "f5b6d684",
   "metadata": {
    "execution": {
     "iopub.execute_input": "2022-02-26T17:24:20.494993Z",
     "iopub.status.busy": "2022-02-26T17:24:20.493586Z",
     "iopub.status.idle": "2022-02-26T17:24:20.509659Z",
     "shell.execute_reply": "2022-02-26T17:24:20.510250Z",
     "shell.execute_reply.started": "2022-02-26T17:19:05.796814Z"
    },
    "papermill": {
     "duration": 0.058097,
     "end_time": "2022-02-26T17:24:20.510455",
     "exception": false,
     "start_time": "2022-02-26T17:24:20.452358",
     "status": "completed"
    },
    "tags": []
   },
   "outputs": [
    {
     "name": "stdout",
     "output_type": "stream",
     "text": [
      "<class 'pandas.core.frame.DataFrame'>\n",
      "RangeIndex: 11309 entries, 0 to 11308\n",
      "Data columns (total 13 columns):\n",
      " #   Column        Non-Null Count  Dtype  \n",
      "---  ------        --------------  -----  \n",
      " 0   ofd_date      11309 non-null  object \n",
      " 1   country_code  11309 non-null  object \n",
      " 2   fc_codes      11309 non-null  object \n",
      " 3   station_code  11309 non-null  object \n",
      " 4   OFD           10669 non-null  float64\n",
      " 5   Slam          10737 non-null  float64\n",
      " 6   Earlies_Exp   10740 non-null  float64\n",
      " 7   Earlies_Rec   10730 non-null  float64\n",
      " 8   MNR_SNR_Exp   10300 non-null  float64\n",
      " 9   Rollover      9944 non-null   float64\n",
      " 10  Returns       9967 non-null   float64\n",
      " 11  R_Sideline    9542 non-null   float64\n",
      " 12  Sideline      9592 non-null   float64\n",
      "dtypes: float64(9), object(4)\n",
      "memory usage: 1.1+ MB\n"
     ]
    }
   ],
   "source": [
    "dat_train.info()"
   ]
  },
  {
   "cell_type": "code",
   "execution_count": 16,
   "id": "7311f474",
   "metadata": {
    "execution": {
     "iopub.execute_input": "2022-02-26T17:24:20.580487Z",
     "iopub.status.busy": "2022-02-26T17:24:20.579388Z",
     "iopub.status.idle": "2022-02-26T17:24:20.605432Z",
     "shell.execute_reply": "2022-02-26T17:24:20.605961Z",
     "shell.execute_reply.started": "2022-02-26T17:19:07.766121Z"
    },
    "papermill": {
     "duration": 0.061243,
     "end_time": "2022-02-26T17:24:20.606139",
     "exception": false,
     "start_time": "2022-02-26T17:24:20.544896",
     "status": "completed"
    },
    "tags": []
   },
   "outputs": [
    {
     "data": {
      "text/html": [
       "<div>\n",
       "<style scoped>\n",
       "    .dataframe tbody tr th:only-of-type {\n",
       "        vertical-align: middle;\n",
       "    }\n",
       "\n",
       "    .dataframe tbody tr th {\n",
       "        vertical-align: top;\n",
       "    }\n",
       "\n",
       "    .dataframe thead th {\n",
       "        text-align: right;\n",
       "    }\n",
       "</style>\n",
       "<table border=\"1\" class=\"dataframe\">\n",
       "  <thead>\n",
       "    <tr style=\"text-align: right;\">\n",
       "      <th></th>\n",
       "      <th>OFD</th>\n",
       "      <th>Slam</th>\n",
       "      <th>Earlies_Exp</th>\n",
       "      <th>Earlies_Rec</th>\n",
       "      <th>MNR_SNR_Exp</th>\n",
       "      <th>Rollover</th>\n",
       "      <th>Returns</th>\n",
       "      <th>R_Sideline</th>\n",
       "      <th>Sideline</th>\n",
       "    </tr>\n",
       "  </thead>\n",
       "  <tbody>\n",
       "    <tr>\n",
       "      <th>OFD</th>\n",
       "      <td>1.000000</td>\n",
       "      <td>0.986775</td>\n",
       "      <td>0.396976</td>\n",
       "      <td>0.438420</td>\n",
       "      <td>0.452848</td>\n",
       "      <td>0.368336</td>\n",
       "      <td>0.482720</td>\n",
       "      <td>-0.129413</td>\n",
       "      <td>-0.164903</td>\n",
       "    </tr>\n",
       "    <tr>\n",
       "      <th>Slam</th>\n",
       "      <td>0.986775</td>\n",
       "      <td>1.000000</td>\n",
       "      <td>0.395054</td>\n",
       "      <td>0.466659</td>\n",
       "      <td>0.473672</td>\n",
       "      <td>0.368652</td>\n",
       "      <td>0.472518</td>\n",
       "      <td>-0.131518</td>\n",
       "      <td>-0.155478</td>\n",
       "    </tr>\n",
       "    <tr>\n",
       "      <th>Earlies_Exp</th>\n",
       "      <td>0.396976</td>\n",
       "      <td>0.395054</td>\n",
       "      <td>1.000000</td>\n",
       "      <td>0.611325</td>\n",
       "      <td>0.394975</td>\n",
       "      <td>0.252369</td>\n",
       "      <td>0.083734</td>\n",
       "      <td>-0.074865</td>\n",
       "      <td>-0.095501</td>\n",
       "    </tr>\n",
       "    <tr>\n",
       "      <th>Earlies_Rec</th>\n",
       "      <td>0.438420</td>\n",
       "      <td>0.466659</td>\n",
       "      <td>0.611325</td>\n",
       "      <td>1.000000</td>\n",
       "      <td>0.421458</td>\n",
       "      <td>0.322344</td>\n",
       "      <td>0.163564</td>\n",
       "      <td>-0.104135</td>\n",
       "      <td>-0.127078</td>\n",
       "    </tr>\n",
       "    <tr>\n",
       "      <th>MNR_SNR_Exp</th>\n",
       "      <td>0.452848</td>\n",
       "      <td>0.473672</td>\n",
       "      <td>0.394975</td>\n",
       "      <td>0.421458</td>\n",
       "      <td>1.000000</td>\n",
       "      <td>0.330209</td>\n",
       "      <td>0.138898</td>\n",
       "      <td>-0.115455</td>\n",
       "      <td>-0.134118</td>\n",
       "    </tr>\n",
       "    <tr>\n",
       "      <th>Rollover</th>\n",
       "      <td>0.368336</td>\n",
       "      <td>0.368652</td>\n",
       "      <td>0.252369</td>\n",
       "      <td>0.322344</td>\n",
       "      <td>0.330209</td>\n",
       "      <td>1.000000</td>\n",
       "      <td>0.165792</td>\n",
       "      <td>-0.113616</td>\n",
       "      <td>-0.090851</td>\n",
       "    </tr>\n",
       "    <tr>\n",
       "      <th>Returns</th>\n",
       "      <td>0.482720</td>\n",
       "      <td>0.472518</td>\n",
       "      <td>0.083734</td>\n",
       "      <td>0.163564</td>\n",
       "      <td>0.138898</td>\n",
       "      <td>0.165792</td>\n",
       "      <td>1.000000</td>\n",
       "      <td>0.116079</td>\n",
       "      <td>-0.001893</td>\n",
       "    </tr>\n",
       "    <tr>\n",
       "      <th>R_Sideline</th>\n",
       "      <td>-0.129413</td>\n",
       "      <td>-0.131518</td>\n",
       "      <td>-0.074865</td>\n",
       "      <td>-0.104135</td>\n",
       "      <td>-0.115455</td>\n",
       "      <td>-0.113616</td>\n",
       "      <td>0.116079</td>\n",
       "      <td>1.000000</td>\n",
       "      <td>0.088568</td>\n",
       "    </tr>\n",
       "    <tr>\n",
       "      <th>Sideline</th>\n",
       "      <td>-0.164903</td>\n",
       "      <td>-0.155478</td>\n",
       "      <td>-0.095501</td>\n",
       "      <td>-0.127078</td>\n",
       "      <td>-0.134118</td>\n",
       "      <td>-0.090851</td>\n",
       "      <td>-0.001893</td>\n",
       "      <td>0.088568</td>\n",
       "      <td>1.000000</td>\n",
       "    </tr>\n",
       "  </tbody>\n",
       "</table>\n",
       "</div>"
      ],
      "text/plain": [
       "                  OFD      Slam  Earlies_Exp  Earlies_Rec  MNR_SNR_Exp  \\\n",
       "OFD          1.000000  0.986775     0.396976     0.438420     0.452848   \n",
       "Slam         0.986775  1.000000     0.395054     0.466659     0.473672   \n",
       "Earlies_Exp  0.396976  0.395054     1.000000     0.611325     0.394975   \n",
       "Earlies_Rec  0.438420  0.466659     0.611325     1.000000     0.421458   \n",
       "MNR_SNR_Exp  0.452848  0.473672     0.394975     0.421458     1.000000   \n",
       "Rollover     0.368336  0.368652     0.252369     0.322344     0.330209   \n",
       "Returns      0.482720  0.472518     0.083734     0.163564     0.138898   \n",
       "R_Sideline  -0.129413 -0.131518    -0.074865    -0.104135    -0.115455   \n",
       "Sideline    -0.164903 -0.155478    -0.095501    -0.127078    -0.134118   \n",
       "\n",
       "             Rollover   Returns  R_Sideline  Sideline  \n",
       "OFD          0.368336  0.482720   -0.129413 -0.164903  \n",
       "Slam         0.368652  0.472518   -0.131518 -0.155478  \n",
       "Earlies_Exp  0.252369  0.083734   -0.074865 -0.095501  \n",
       "Earlies_Rec  0.322344  0.163564   -0.104135 -0.127078  \n",
       "MNR_SNR_Exp  0.330209  0.138898   -0.115455 -0.134118  \n",
       "Rollover     1.000000  0.165792   -0.113616 -0.090851  \n",
       "Returns      0.165792  1.000000    0.116079 -0.001893  \n",
       "R_Sideline  -0.113616  0.116079    1.000000  0.088568  \n",
       "Sideline    -0.090851 -0.001893    0.088568  1.000000  "
      ]
     },
     "execution_count": 16,
     "metadata": {},
     "output_type": "execute_result"
    }
   ],
   "source": [
    "dat_train.corr()"
   ]
  },
  {
   "cell_type": "code",
   "execution_count": 17,
   "id": "1bf204fa",
   "metadata": {
    "execution": {
     "iopub.execute_input": "2022-02-26T17:24:20.672693Z",
     "iopub.status.busy": "2022-02-26T17:24:20.671978Z",
     "iopub.status.idle": "2022-02-26T17:24:21.387346Z",
     "shell.execute_reply": "2022-02-26T17:24:21.387875Z",
     "shell.execute_reply.started": "2022-02-26T17:20:53.290403Z"
    },
    "papermill": {
     "duration": 0.75054,
     "end_time": "2022-02-26T17:24:21.388048",
     "exception": false,
     "start_time": "2022-02-26T17:24:20.637508",
     "status": "completed"
    },
    "tags": []
   },
   "outputs": [
    {
     "data": {
      "text/plain": [
       "<AxesSubplot:>"
      ]
     },
     "execution_count": 17,
     "metadata": {},
     "output_type": "execute_result"
    },
    {
     "data": {
      "image/png": "[encoded data removed]",
      "text/plain": [
       "<Figure size 432x288 with 2 Axes>"
      ]
     },
     "metadata": {
      "needs_background": "light"
     },
     "output_type": "display_data"
    }
   ],
   "source": [
    "sns.heatmap(dat_train.corr(), annot=True, cmap='Reds')"
   ]
  },
  {
   "cell_type": "code",
   "execution_count": null,
   "id": "4cf5bb49",
   "metadata": {
    "papermill": {
     "duration": 0.030767,
     "end_time": "2022-02-26T17:24:21.450988",
     "exception": false,
     "start_time": "2022-02-26T17:24:21.420221",
     "status": "completed"
    },
    "tags": []
   },
   "outputs": [],
   "source": []
  }
 ],
 "metadata": {
  "kernelspec": {
   "display_name": "Python 3 (ipykernel)",
   "language": "python",
   "name": "python3"
  },
  "language_info": {
   "codemirror_mode": {
    "name": "ipython",
    "version": 3
   },
   "file_extension": ".py",
   "mimetype": "text/x-python",
   "name": "python",
   "nbconvert_exporter": "python",
   "pygments_lexer": "ipython3",
   "version": "3.9.6"
  },
  "papermill": {
   "default_parameters": {},
   "duration": 17.782368,
   "end_time": "2022-02-26T17:24:24.401727",
   "environment_variables": {},
   "exception": null,
   "input_path": "__notebook__.ipynb",
   "output_path": "__notebook__.ipynb",
   "parameters": {},
   "start_time": "2022-02-26T17:24:06.619359",
   "version": "2.3.3"
  }
 },
 "nbformat": 4,
 "nbformat_minor": 5
}
